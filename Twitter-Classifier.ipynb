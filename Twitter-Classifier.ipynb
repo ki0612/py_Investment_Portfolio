{
 "cells": [
  {
   "cell_type": "markdown",
   "metadata": {},
   "source": [
    "Configuration\n",
    "To get API keys and tokens: https://developers.twitter.com/"
   ]
  },
  {
   "cell_type": "code",
   "execution_count": 1,
   "metadata": {},
   "outputs": [],
   "source": [
    "\"\"\"\n",
    "Twitter API authentication keys and tokens\n",
    "\"\"\"\n",
    "API_KEY = \"<API_KEY>\"\n",
    "API_KEY_SECRET = \"<API_KEY_SECRET>\"\n",
    "ACCESS_TOKEN = \"<ACCESS_TOKEN>\"\n",
    "ACCESS_TOKEN_SECRET = \"<ACCESS_TOKEN_SECRET>\""
   ]
  },
  {
   "cell_type": "code",
   "execution_count": 2,
   "metadata": {},
   "outputs": [],
   "source": [
    "import tweepy\n",
    "\n",
    "def authenticate():\n",
    "    \"\"\" \n",
    "    This function authenticates with the Twitter API using our keys\n",
    "    Returns the object necessary to interact with the API.\n",
    "    \"\"\"\n",
    "\n",
    "    auth = tweepy.OAuthHandler(API_KEY, API_KEY_SECRET)\n",
    "    auth.set_access_token(ACCESS_TOKEN, ACCESS_TOKEN_SECRET)\n",
    "    return tweepy.API(auth, wait_on_rate_limit=True)"
   ]
  },
  {
   "cell_type": "code",
   "execution_count": null,
   "metadata": {},
   "outputs": [],
   "source": []
  }
 ],
 "metadata": {
  "kernelspec": {
   "display_name": "Python 3",
   "language": "python",
   "name": "python3"
  },
  "language_info": {
   "codemirror_mode": {
    "name": "ipython",
    "version": 3
   },
   "file_extension": ".py",
   "mimetype": "text/x-python",
   "name": "python",
   "nbconvert_exporter": "python",
   "pygments_lexer": "ipython3",
   "version": "3.8.3"
  }
 },
 "nbformat": 4,
 "nbformat_minor": 4
}
